{
 "cells": [
  {
   "cell_type": "code",
   "execution_count": 1,
   "id": "b1af5c39-fe06-4956-be98-b7e4b9d1a41f",
   "metadata": {},
   "outputs": [],
   "source": [
    "data_dict = {\n",
    "    'Pclass': 3,\n",
    "    'Name': 'Braund, Mr. Owen Harris',\n",
    "    'Sex': 'male',\n",
    "    'Age': 22,\n",
    "    'SibSp': 1,\n",
    "    'Parch': 0,\n",
    "    'Ticket': 'A/5 21171',\n",
    "    'Fare': 7.25,\n",
    "    'Cabin': None,\n",
    "    'Embarked': 'S'\n",
    "}"
   ]
  },
  {
   "cell_type": "code",
   "execution_count": 2,
   "id": "38810f7b-3f3c-4418-8601-b3291260f702",
   "metadata": {},
   "outputs": [],
   "source": [
    "import joblib\n",
    "\n",
    "# Load the saved models\n",
    "imputer_numeric = joblib.load('imputer_numeric.joblib')\n",
    "imputer_categorical = joblib.load('imputer_categorical.joblib')\n",
    "scaler_numeric = joblib.load('scaler_numeric.joblib')\n",
    "encoder_categorical = joblib.load('encoder_categorical.joblib')\n",
    "logreg_model = joblib.load('logreg_model.joblib')"
   ]
  },
  {
   "cell_type": "code",
   "execution_count": 3,
   "id": "5b8c7828-3188-4a8e-bf22-8f3af2d9b881",
   "metadata": {},
   "outputs": [],
   "source": [
    "import pandas as pd"
   ]
  },
  {
   "cell_type": "code",
   "execution_count": 4,
   "id": "dd5bfe13-19d0-4bd2-b0f9-620741ae61dd",
   "metadata": {},
   "outputs": [],
   "source": [
    "new_data = pd.DataFrame([data_dict])\n",
    "new_data.drop(['Name','Cabin','Ticket'], axis=1, inplace=True)"
   ]
  },
  {
   "cell_type": "code",
   "execution_count": 5,
   "id": "5b7f73c4-8bb2-4205-97c7-ed5bcbe8b593",
   "metadata": {},
   "outputs": [],
   "source": [
    "numeric_features     = ['Age', 'SibSp', 'Parch', 'Fare']\n",
    "categorical_features = ['Pclass', 'Sex', 'Embarked']"
   ]
  },
  {
   "cell_type": "code",
   "execution_count": 6,
   "id": "d8b0fd57-cd88-449b-9dac-88de83c5505c",
   "metadata": {},
   "outputs": [],
   "source": [
    "new_data[numeric_features] = imputer_numeric.transform(new_data[numeric_features])\n",
    "new_data[categorical_features] = imputer_categorical.transform(new_data[categorical_features])\n",
    "\n",
    "new_data[numeric_features] = scaler_numeric.transform(new_data[numeric_features])\n",
    "\n",
    "new_data_encoded_array = encoder_categorical.transform(new_data[categorical_features]).toarray()\n",
    "new_data_encoded_df = pd.DataFrame(new_data_encoded_array, columns=encoder_categorical.get_feature_names_out(categorical_features))\n",
    "\n",
    "new_data.reset_index(drop=True, inplace=True)\n",
    "new_data = pd.concat([new_data, new_data_encoded_df], axis=1)\n",
    "new_data.drop(['Pclass', 'Sex', 'Embarked'], axis=1, inplace=True)\n",
    "\n",
    "# new_data"
   ]
  },
  {
   "cell_type": "code",
   "execution_count": 7,
   "id": "87b83fd2-91d3-4ccc-89ba-26bb725b0721",
   "metadata": {},
   "outputs": [
    {
     "name": "stdout",
     "output_type": "stream",
     "text": [
      "[0]\n"
     ]
    }
   ],
   "source": [
    "predictions = logreg_model.predict(new_data)\n",
    "\n",
    "print(predictions)"
   ]
  },
  {
   "cell_type": "code",
   "execution_count": null,
   "id": "14472663-5685-489a-8115-6ad6a66637b6",
   "metadata": {},
   "outputs": [],
   "source": []
  }
 ],
 "metadata": {
  "kernelspec": {
   "display_name": "UMRI02",
   "language": "python",
   "name": "umri02"
  },
  "language_info": {
   "codemirror_mode": {
    "name": "ipython",
    "version": 3
   },
   "file_extension": ".py",
   "mimetype": "text/x-python",
   "name": "python",
   "nbconvert_exporter": "python",
   "pygments_lexer": "ipython3",
   "version": "3.11.4"
  }
 },
 "nbformat": 4,
 "nbformat_minor": 5
}
