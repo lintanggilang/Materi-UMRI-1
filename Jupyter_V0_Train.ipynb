{
  "nbformat": 4,
  "nbformat_minor": 0,
  "metadata": {
    "colab": {
      "provenance": []
    },
    "kernelspec": {
      "name": "python3",
      "display_name": "Python 3"
    },
    "language_info": {
      "name": "python"
    }
  },
  "cells": [
    {
      "cell_type": "code",
      "execution_count": 12,
      "metadata": {
        "id": "tToFPs3T8whD"
      },
      "outputs": [],
      "source": [
        "import pandas as pd\n",
        "from sklearn.model_selection import train_test_split\n",
        "from sklearn.pipeline import Pipeline\n",
        "from sklearn.impute import SimpleImputer\n",
        "from sklearn.preprocessing import StandardScaler, OneHotEncoder\n",
        "from sklearn.ensemble import RandomForestClassifier, GradientBoostingClassifier\n",
        "from sklearn.tree import DecisionTreeClassifier\n",
        "from sklearn.linear_model import LogisticRegression\n",
        "from sklearn.neighbors import KNeighborsClassifier\n",
        "from sklearn.compose import ColumnTransformer\n",
        "from sklearn.metrics import accuracy_score\n",
        "\n",
        "# Load dataset\n",
        "url = \"https://raw.githubusercontent.com/datasciencedojo/datasets/master/titanic.csv\"\n",
        "df = pd.read_csv(url)\n",
        "\n",
        "# Pisahkan fitur dan target\n",
        "X = df.drop('Survived', axis=1)\n",
        "y = df['Survived']\n",
        "\n",
        "# Pisahkan data menjadi data latih dan data uji\n",
        "X_train, X_test, y_train, y_test = train_test_split(X, y, test_size=0.3, random_state=42)\n",
        "\n",
        "# Definisikan pipeline untuk preprocessing\n",
        "numeric_features = X.select_dtypes(include=['int64', 'float64']).columns\n",
        "categorical_features = X.select_dtypes(include=['object']).columns\n",
        "\n",
        "numeric_transformer = Pipeline(steps=[\n",
        "    ('imputer', SimpleImputer(strategy='mean')),\n",
        "    ('scaler', StandardScaler())\n",
        "])\n",
        "\n",
        "categorical_transformer = Pipeline(steps=[\n",
        "    ('imputer', SimpleImputer(strategy='constant', fill_value='missing')),\n",
        "    ('onehot', OneHotEncoder(handle_unknown='ignore'))\n",
        "])\n",
        "\n",
        "preprocessor = ColumnTransformer(\n",
        "    transformers=[\n",
        "        ('num', numeric_transformer, numeric_features),\n",
        "        ('cat', categorical_transformer, categorical_features)\n",
        "    ])\n"
      ]
    },
    {
      "cell_type": "code",
      "source": [
        "# Lakukan pelatihan dan evaluasi untuk setiap model\n",
        "models = {\n",
        "    'Random Forest': RandomForestClassifier(random_state=42),\n",
        "    'Logistic Regression': LogisticRegression(random_state=42),\n",
        "    'Decision Tree': DecisionTreeClassifier(random_state=42),\n",
        "    'Gradient Boosting': GradientBoostingClassifier(random_state=42),\n",
        "    'K-Nearest Neighbors': KNeighborsClassifier(),\n",
        "}\n",
        "\n",
        "# Buat DataFrame untuk menyimpan hasil evaluasi\n",
        "report_data = []\n",
        "\n",
        "for model_name, model in models.items():\n",
        "    pipeline = Pipeline(steps=[('preprocessor', preprocessor),\n",
        "                                ('classifier', model)])\n",
        "\n",
        "    # Latih model menggunakan data latih\n",
        "    pipeline.fit(X_train, y_train)\n",
        "\n",
        "    # Lakukan prediksi pada data uji\n",
        "    predictions = pipeline.predict(X_test)\n",
        "\n",
        "    # Evaluasi performa model\n",
        "    accuracy = accuracy_score(y_test, predictions)\n",
        "\n",
        "    # Tambahkan hasil evaluasi ke DataFrame\n",
        "    report_data.append({'Model': model_name, 'Accuracy': accuracy})"
      ],
      "metadata": {
        "id": "s0n6nG8681nl"
      },
      "execution_count": 13,
      "outputs": []
    },
    {
      "cell_type": "code",
      "source": [
        "# Buat DataFrame dari hasil evaluasi\n",
        "report_df = pd.DataFrame(report_data)\n",
        "\n",
        "# Urutkan DataFrame berdasarkan akurasi secara descending\n",
        "report_df = report_df.sort_values(by='Accuracy', ascending=False)\n",
        "\n",
        "# Print tabel report\n",
        "print(report_df)"
      ],
      "metadata": {
        "colab": {
          "base_uri": "https://localhost:8080/"
        },
        "id": "65Eh2oRm-I7w",
        "outputId": "d4224348-b81b-4d9e-f782-e8d208fe5e4f"
      },
      "execution_count": 14,
      "outputs": [
        {
          "output_type": "stream",
          "name": "stdout",
          "text": [
            "                 Model  Accuracy\n",
            "1  Logistic Regression  0.820896\n",
            "3    Gradient Boosting  0.820896\n",
            "0        Random Forest  0.809701\n",
            "2        Decision Tree  0.798507\n",
            "4  K-Nearest Neighbors  0.798507\n"
          ]
        }
      ]
    }
  ]
}