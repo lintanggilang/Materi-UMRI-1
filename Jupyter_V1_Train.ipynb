{
 "cells": [
  {
   "cell_type": "markdown",
   "id": "69bd65b3-71cb-4e66-8fb0-8a72d06fb8c0",
   "metadata": {
    "jp-MarkdownHeadingCollapsed": true
   },
   "source": [
    "# Titanic\n",
    "\n",
    "## https://www.kaggle.com/competitions/titanic"
   ]
  },
  {
   "cell_type": "code",
   "execution_count": 1,
   "id": "551c6e8e-b9d9-494b-872b-2b3d39c9c3a1",
   "metadata": {},
   "outputs": [],
   "source": [
    "import pandas as pd"
   ]
  },
  {
   "cell_type": "code",
   "execution_count": 2,
   "id": "d3bacc7b-4d18-4ea4-90fd-847510b1ddd3",
   "metadata": {},
   "outputs": [],
   "source": [
    "df = pd.read_csv('data_train.csv')"
   ]
  },
  {
   "cell_type": "markdown",
   "id": "92cbab2a-82fb-4333-b282-887067938979",
   "metadata": {},
   "source": [
    "# Split Data"
   ]
  },
  {
   "cell_type": "code",
   "execution_count": 3,
   "id": "d0b84231-d046-4eff-815d-3f16044cc802",
   "metadata": {},
   "outputs": [],
   "source": [
    "from sklearn.model_selection import train_test_split\n",
    "\n",
    "# https://scikit-learn.org/stable/modules/generated/sklearn.model_selection.train_test_split.html"
   ]
  },
  {
   "cell_type": "code",
   "execution_count": 4,
   "id": "85a1beb1-0b22-4aac-ab0c-3980c82fcb62",
   "metadata": {},
   "outputs": [],
   "source": [
    "X = df[['Pclass', 'Sex', 'Embarked', 'Age', 'SibSp', 'Parch', 'Fare']]\n",
    "y = df['Survived']"
   ]
  },
  {
   "cell_type": "code",
   "execution_count": 5,
   "id": "484731e1-c5ee-41d3-850a-8987c0a0d9cf",
   "metadata": {},
   "outputs": [],
   "source": [
    "X_train, X_test, y_train, y_test = train_test_split(X, y, test_size=0.2, random_state=42)"
   ]
  },
  {
   "cell_type": "code",
   "execution_count": 6,
   "id": "af9e0960-b17a-4e33-89b6-203af282436e",
   "metadata": {},
   "outputs": [],
   "source": [
    "X_train_asli = X_train.copy()"
   ]
  },
  {
   "cell_type": "code",
   "execution_count": 7,
   "id": "beff3f0f-05d8-467b-b008-08e9004ae3fb",
   "metadata": {},
   "outputs": [],
   "source": [
    "numeric_features     = ['Age', 'SibSp', 'Parch', 'Fare']\n",
    "categorical_features = ['Pclass', 'Sex', 'Embarked']"
   ]
  },
  {
   "cell_type": "markdown",
   "id": "89eb5fc0-3653-49ae-b536-e5fa0bea02fb",
   "metadata": {
    "jp-MarkdownHeadingCollapsed": true
   },
   "source": [
    "# Imputer"
   ]
  },
  {
   "cell_type": "code",
   "execution_count": 8,
   "id": "42bdc762-f95f-4c5c-bbf9-a6d1398d8b82",
   "metadata": {},
   "outputs": [],
   "source": [
    "from sklearn.impute import SimpleImputer\n",
    "\n",
    "# https://scikit-learn.org/stable/modules/generated/sklearn.impute.SimpleImputer.html"
   ]
  },
  {
   "cell_type": "code",
   "execution_count": 9,
   "id": "701d33a2-c99f-4e1c-8f49-a86e3c756645",
   "metadata": {},
   "outputs": [],
   "source": [
    "# X_train.isnull().sum()"
   ]
  },
  {
   "cell_type": "code",
   "execution_count": 10,
   "id": "301a5d84-5a9e-43f0-b0a1-a430a3d1b1e1",
   "metadata": {},
   "outputs": [],
   "source": [
    "imputer_numeric = SimpleImputer(strategy='mean')\n",
    "X_train[numeric_features] = imputer_numeric.fit_transform(X_train[numeric_features])"
   ]
  },
  {
   "cell_type": "code",
   "execution_count": 11,
   "id": "724e53f8-d3b1-43e4-9bdd-8d6233f7011a",
   "metadata": {},
   "outputs": [],
   "source": [
    "imputer_categorical = SimpleImputer(strategy='most_frequent')\n",
    "X_train[categorical_features] = imputer_categorical.fit_transform(X_train[categorical_features])"
   ]
  },
  {
   "cell_type": "code",
   "execution_count": 12,
   "id": "ad60b238-6ff1-44ec-b040-24d1e31bb27c",
   "metadata": {},
   "outputs": [],
   "source": [
    "# X_train.isnull().sum()"
   ]
  },
  {
   "cell_type": "code",
   "execution_count": 13,
   "id": "59a7e130-8418-47f7-b292-08b7337d4989",
   "metadata": {},
   "outputs": [
    {
     "name": "stdout",
     "output_type": "stream",
     "text": [
      "done\n"
     ]
    }
   ],
   "source": [
    "import joblib\n",
    "\n",
    "joblib.dump(imputer_numeric, 'imputer_numeric.joblib')\n",
    "joblib.dump(imputer_categorical, 'imputer_categorical.joblib')\n",
    "print('done')"
   ]
  },
  {
   "cell_type": "code",
   "execution_count": 14,
   "id": "156a3833-7e63-4c38-b205-18f5ccd496df",
   "metadata": {},
   "outputs": [],
   "source": [
    "# X_train.head()"
   ]
  },
  {
   "cell_type": "markdown",
   "id": "db961342-440f-4444-a9f2-500ad812b6b2",
   "metadata": {
    "jp-MarkdownHeadingCollapsed": true
   },
   "source": [
    "# Scaler"
   ]
  },
  {
   "cell_type": "code",
   "execution_count": 15,
   "id": "69e2fa8f-392d-4a92-bbdc-248e0b322dc8",
   "metadata": {},
   "outputs": [],
   "source": [
    "from sklearn.preprocessing import StandardScaler\n",
    "\n",
    "# https://scikit-learn.org/stable/modules/generated/sklearn.preprocessing.StandardScaler.html"
   ]
  },
  {
   "cell_type": "code",
   "execution_count": 16,
   "id": "2d0536bd-e364-4a0e-a0eb-81742b790616",
   "metadata": {},
   "outputs": [],
   "source": [
    "# X_train.describe()"
   ]
  },
  {
   "cell_type": "code",
   "execution_count": 17,
   "id": "09d28e7d-5bf2-4a6c-b870-9c1153642f3c",
   "metadata": {},
   "outputs": [],
   "source": [
    "scaler_numeric = StandardScaler()\n",
    "\n",
    "X_train[numeric_features] = scaler_numeric.fit_transform(X_train[numeric_features])"
   ]
  },
  {
   "cell_type": "code",
   "execution_count": 18,
   "id": "941e0152-1eb0-47d6-bb3d-85747e05e323",
   "metadata": {},
   "outputs": [
    {
     "name": "stdout",
     "output_type": "stream",
     "text": [
      "done\n"
     ]
    }
   ],
   "source": [
    "joblib.dump(scaler_numeric, 'scaler_numeric.joblib')\n",
    "\n",
    "print('done')"
   ]
  },
  {
   "cell_type": "code",
   "execution_count": 19,
   "id": "7519c364-b596-4a13-8a21-71b2a69bacee",
   "metadata": {},
   "outputs": [],
   "source": [
    "# X_train.head()"
   ]
  },
  {
   "cell_type": "code",
   "execution_count": 20,
   "id": "b14c3eae-cbcd-4aba-bb7d-79ebfca080b5",
   "metadata": {},
   "outputs": [],
   "source": [
    "# X_train.describe()"
   ]
  },
  {
   "cell_type": "markdown",
   "id": "aa1e38de-7004-4ff8-9138-b45a334c2887",
   "metadata": {
    "jp-MarkdownHeadingCollapsed": true
   },
   "source": [
    "# One Hot Encoder"
   ]
  },
  {
   "cell_type": "code",
   "execution_count": 21,
   "id": "e7ffa2f3-8c7e-465d-9e5c-d9a2bd88603f",
   "metadata": {},
   "outputs": [],
   "source": [
    "from sklearn.preprocessing import OneHotEncoder\n",
    "\n",
    "# https://scikit-learn.org/stable/modules/generated/sklearn.preprocessing.OneHotEncoder.html"
   ]
  },
  {
   "cell_type": "code",
   "execution_count": 22,
   "id": "ba2915a3-bd3f-4b29-bcf4-38d570b33927",
   "metadata": {},
   "outputs": [],
   "source": [
    "# X_train[categorical_features].head()"
   ]
  },
  {
   "cell_type": "code",
   "execution_count": 23,
   "id": "45462c70-b2c8-49c7-a0d4-e93a622aaf94",
   "metadata": {},
   "outputs": [],
   "source": [
    "encoder_categorical = OneHotEncoder()\n",
    "\n",
    "X_train_encoded_array = encoder_categorical.fit_transform(X_train[categorical_features]).toarray()\n",
    "# print(X_train_encoded_array)"
   ]
  },
  {
   "cell_type": "code",
   "execution_count": 24,
   "id": "2cb2fe2b-6993-4881-9090-07cdba9a5342",
   "metadata": {},
   "outputs": [
    {
     "name": "stdout",
     "output_type": "stream",
     "text": [
      "done\n"
     ]
    }
   ],
   "source": [
    "joblib.dump(encoder_categorical, 'encoder_categorical.joblib')\n",
    "\n",
    "print('done')"
   ]
  },
  {
   "cell_type": "code",
   "execution_count": 25,
   "id": "f01b752d-ac3b-4644-b8dd-e9768f06037b",
   "metadata": {},
   "outputs": [],
   "source": [
    "X_encoded_df = pd.DataFrame(X_train_encoded_array, columns=encoder_categorical.get_feature_names_out(categorical_features))\n",
    "# X_encoded_df.head()"
   ]
  },
  {
   "cell_type": "code",
   "execution_count": 26,
   "id": "56eeaf38-5584-4a8b-a583-db89773de4f2",
   "metadata": {},
   "outputs": [],
   "source": [
    "X_encoded_df.reset_index(drop=True, inplace=True)\n",
    "X_train.reset_index(drop=True, inplace=True)"
   ]
  },
  {
   "cell_type": "code",
   "execution_count": 27,
   "id": "d8ff552c-1044-4d46-9020-0211715492be",
   "metadata": {},
   "outputs": [],
   "source": [
    "X_train = pd.concat([X_train, X_encoded_df], axis=1)\n",
    "# X_train.head()"
   ]
  },
  {
   "cell_type": "code",
   "execution_count": 28,
   "id": "d214ac66-6193-4bfb-bf86-c6b5d6fbccb2",
   "metadata": {},
   "outputs": [],
   "source": [
    "X_train.drop(['Pclass', 'Sex', 'Embarked'], axis=1, inplace=True)\n",
    "# X_train.head()"
   ]
  },
  {
   "cell_type": "code",
   "execution_count": 29,
   "id": "e595ce73-06f0-4fe9-b0c7-35b824a5db3c",
   "metadata": {},
   "outputs": [],
   "source": [
    "# X_train_asli.head()"
   ]
  },
  {
   "cell_type": "markdown",
   "id": "4999de5b-48a9-437b-af09-8eb9943f3b2b",
   "metadata": {
    "jp-MarkdownHeadingCollapsed": true
   },
   "source": [
    "# Train Model Using Logistic Regression"
   ]
  },
  {
   "cell_type": "code",
   "execution_count": 30,
   "id": "4f7cd750-292a-4005-8c46-41f555c7fc12",
   "metadata": {},
   "outputs": [],
   "source": [
    "from sklearn.linear_model import LogisticRegression\n",
    "\n",
    "# https://scikit-learn.org/stable/modules/generated/sklearn.linear_model.LogisticRegression.html"
   ]
  },
  {
   "cell_type": "code",
   "execution_count": 31,
   "id": "e7f3d01c-fd7f-4904-937f-2a0105567442",
   "metadata": {},
   "outputs": [],
   "source": [
    "logreg_model = LogisticRegression(random_state=42, max_iter=1000)\n",
    "logreg_model.fit(X_train, y_train)"
   ]
  },
  {
   "cell_type": "code",
   "execution_count": 32,
   "id": "bae4d24a-a137-4868-b6c7-afe629c006a0",
   "metadata": {},
   "outputs": [
    {
     "data": {
      "text/html": [
       "<style>#sk-container-id-1 {color: black;}#sk-container-id-1 pre{padding: 0;}#sk-container-id-1 div.sk-toggleable {background-color: white;}#sk-container-id-1 label.sk-toggleable__label {cursor: pointer;display: block;width: 100%;margin-bottom: 0;padding: 0.3em;box-sizing: border-box;text-align: center;}#sk-container-id-1 label.sk-toggleable__label-arrow:before {content: \"▸\";float: left;margin-right: 0.25em;color: #696969;}#sk-container-id-1 label.sk-toggleable__label-arrow:hover:before {color: black;}#sk-container-id-1 div.sk-estimator:hover label.sk-toggleable__label-arrow:before {color: black;}#sk-container-id-1 div.sk-toggleable__content {max-height: 0;max-width: 0;overflow: hidden;text-align: left;background-color: #f0f8ff;}#sk-container-id-1 div.sk-toggleable__content pre {margin: 0.2em;color: black;border-radius: 0.25em;background-color: #f0f8ff;}#sk-container-id-1 input.sk-toggleable__control:checked~div.sk-toggleable__content {max-height: 200px;max-width: 100%;overflow: auto;}#sk-container-id-1 input.sk-toggleable__control:checked~label.sk-toggleable__label-arrow:before {content: \"▾\";}#sk-container-id-1 div.sk-estimator input.sk-toggleable__control:checked~label.sk-toggleable__label {background-color: #d4ebff;}#sk-container-id-1 div.sk-label input.sk-toggleable__control:checked~label.sk-toggleable__label {background-color: #d4ebff;}#sk-container-id-1 input.sk-hidden--visually {border: 0;clip: rect(1px 1px 1px 1px);clip: rect(1px, 1px, 1px, 1px);height: 1px;margin: -1px;overflow: hidden;padding: 0;position: absolute;width: 1px;}#sk-container-id-1 div.sk-estimator {font-family: monospace;background-color: #f0f8ff;border: 1px dotted black;border-radius: 0.25em;box-sizing: border-box;margin-bottom: 0.5em;}#sk-container-id-1 div.sk-estimator:hover {background-color: #d4ebff;}#sk-container-id-1 div.sk-parallel-item::after {content: \"\";width: 100%;border-bottom: 1px solid gray;flex-grow: 1;}#sk-container-id-1 div.sk-label:hover label.sk-toggleable__label {background-color: #d4ebff;}#sk-container-id-1 div.sk-serial::before {content: \"\";position: absolute;border-left: 1px solid gray;box-sizing: border-box;top: 0;bottom: 0;left: 50%;z-index: 0;}#sk-container-id-1 div.sk-serial {display: flex;flex-direction: column;align-items: center;background-color: white;padding-right: 0.2em;padding-left: 0.2em;position: relative;}#sk-container-id-1 div.sk-item {position: relative;z-index: 1;}#sk-container-id-1 div.sk-parallel {display: flex;align-items: stretch;justify-content: center;background-color: white;position: relative;}#sk-container-id-1 div.sk-item::before, #sk-container-id-1 div.sk-parallel-item::before {content: \"\";position: absolute;border-left: 1px solid gray;box-sizing: border-box;top: 0;bottom: 0;left: 50%;z-index: -1;}#sk-container-id-1 div.sk-parallel-item {display: flex;flex-direction: column;z-index: 1;position: relative;background-color: white;}#sk-container-id-1 div.sk-parallel-item:first-child::after {align-self: flex-end;width: 50%;}#sk-container-id-1 div.sk-parallel-item:last-child::after {align-self: flex-start;width: 50%;}#sk-container-id-1 div.sk-parallel-item:only-child::after {width: 0;}#sk-container-id-1 div.sk-dashed-wrapped {border: 1px dashed gray;margin: 0 0.4em 0.5em 0.4em;box-sizing: border-box;padding-bottom: 0.4em;background-color: white;}#sk-container-id-1 div.sk-label label {font-family: monospace;font-weight: bold;display: inline-block;line-height: 1.2em;}#sk-container-id-1 div.sk-label-container {text-align: center;}#sk-container-id-1 div.sk-container {/* jupyter's `normalize.less` sets `[hidden] { display: none; }` but bootstrap.min.css set `[hidden] { display: none !important; }` so we also need the `!important` here to be able to override the default hidden behavior on the sphinx rendered scikit-learn.org. See: https://github.com/scikit-learn/scikit-learn/issues/21755 */display: inline-block !important;position: relative;}#sk-container-id-1 div.sk-text-repr-fallback {display: none;}</style><div id=\"sk-container-id-1\" class=\"sk-top-container\"><div class=\"sk-text-repr-fallback\"><pre>LogisticRegression(C=0.1, max_iter=1000, random_state=42)</pre><b>In a Jupyter environment, please rerun this cell to show the HTML representation or trust the notebook. <br />On GitHub, the HTML representation is unable to render, please try loading this page with nbviewer.org.</b></div><div class=\"sk-container\" hidden><div class=\"sk-item\"><div class=\"sk-estimator sk-toggleable\"><input class=\"sk-toggleable__control sk-hidden--visually\" id=\"sk-estimator-id-1\" type=\"checkbox\" checked><label for=\"sk-estimator-id-1\" class=\"sk-toggleable__label sk-toggleable__label-arrow\">LogisticRegression</label><div class=\"sk-toggleable__content\"><pre>LogisticRegression(C=0.1, max_iter=1000, random_state=42)</pre></div></div></div></div></div>"
      ],
      "text/plain": [
       "LogisticRegression(C=0.1, max_iter=1000, random_state=42)"
      ]
     },
     "execution_count": 32,
     "metadata": {},
     "output_type": "execute_result"
    }
   ],
   "source": [
    "# logreg_model = LogisticRegression(random_state=42, max_iter=1000, C=0.1)\n",
    "# logreg_model.fit(X_train, y_train)"
   ]
  },
  {
   "cell_type": "code",
   "execution_count": 33,
   "id": "dc40b848-4f30-4af9-bcfc-f8d913dff1b6",
   "metadata": {},
   "outputs": [
    {
     "name": "stdout",
     "output_type": "stream",
     "text": [
      "done\n"
     ]
    }
   ],
   "source": [
    "joblib.dump(logreg_model, 'logreg_model.joblib')\n",
    "\n",
    "print('done')"
   ]
  },
  {
   "cell_type": "markdown",
   "id": "c09469d8-b88c-49b2-af87-229e847c2299",
   "metadata": {
    "jp-MarkdownHeadingCollapsed": true
   },
   "source": [
    "# Simple Test"
   ]
  },
  {
   "cell_type": "code",
   "execution_count": 34,
   "id": "b3cbbe55-3c3c-46b2-b387-faa4c24cf2ae",
   "metadata": {},
   "outputs": [],
   "source": [
    "data_dict = {\n",
    "    'Pclass': 3,\n",
    "    'Name': 'Braund, Mr. Owen Harris',\n",
    "    'Sex': 'male',\n",
    "    'Age': 22,\n",
    "    'SibSp': 1,\n",
    "    'Parch': 0,\n",
    "    'Ticket': 'A/5 21171',\n",
    "    'Fare': 7.25,\n",
    "    'Cabin': None,\n",
    "    'Embarked': 'S'\n",
    "}"
   ]
  },
  {
   "cell_type": "code",
   "execution_count": 35,
   "id": "7a5e6ead-9b8a-48d1-b1b0-401f62ba5acb",
   "metadata": {},
   "outputs": [],
   "source": [
    "import joblib\n",
    "\n",
    "# Load the saved models\n",
    "imputer_numeric = joblib.load('imputer_numeric.joblib')\n",
    "imputer_categorical = joblib.load('imputer_categorical.joblib')\n",
    "scaler_numeric = joblib.load('scaler_numeric.joblib')\n",
    "encoder_categorical = joblib.load('encoder_categorical.joblib')\n",
    "logreg_model = joblib.load('logreg_model.joblib')"
   ]
  },
  {
   "cell_type": "code",
   "execution_count": 36,
   "id": "ad5501e0-b7a1-4225-a182-4a8db59c388a",
   "metadata": {},
   "outputs": [],
   "source": [
    "new_data = pd.DataFrame([data_dict])\n",
    "new_data.drop(['Name','Cabin','Ticket'], axis=1, inplace=True)"
   ]
  },
  {
   "cell_type": "code",
   "execution_count": 37,
   "id": "75877a9e-8a4f-4643-b69a-111cdd11f230",
   "metadata": {},
   "outputs": [],
   "source": [
    "new_data[numeric_features] = imputer_numeric.transform(new_data[numeric_features])\n",
    "new_data[categorical_features] = imputer_categorical.transform(new_data[categorical_features])\n",
    "\n",
    "new_data[numeric_features] = scaler_numeric.transform(new_data[numeric_features])\n",
    "\n",
    "new_data_encoded_array = encoder_categorical.transform(new_data[categorical_features]).toarray()\n",
    "new_data_encoded_df = pd.DataFrame(new_data_encoded_array, columns=encoder_categorical.get_feature_names_out(categorical_features))\n",
    "\n",
    "new_data.reset_index(drop=True, inplace=True)\n",
    "new_data = pd.concat([new_data, new_data_encoded_df], axis=1)\n",
    "new_data.drop(['Pclass', 'Sex', 'Embarked'], axis=1, inplace=True)\n",
    "\n",
    "# new_data"
   ]
  },
  {
   "cell_type": "code",
   "execution_count": 38,
   "id": "4de192f1-8091-4dc6-831d-cdf7b562e440",
   "metadata": {},
   "outputs": [
    {
     "name": "stdout",
     "output_type": "stream",
     "text": [
      "[0]\n"
     ]
    }
   ],
   "source": [
    "predictions = logreg_model.predict(new_data)\n",
    "\n",
    "print(predictions)"
   ]
  },
  {
   "cell_type": "markdown",
   "id": "2397d3a0-b749-4628-a291-774b809439c3",
   "metadata": {
    "jp-MarkdownHeadingCollapsed": true
   },
   "source": [
    "# X_test dan y_test"
   ]
  },
  {
   "cell_type": "code",
   "execution_count": 39,
   "id": "d5db406e-bb26-4123-9fd9-cfca05d047ea",
   "metadata": {},
   "outputs": [],
   "source": [
    "# X_test.head()"
   ]
  },
  {
   "cell_type": "code",
   "execution_count": 40,
   "id": "f68d4ea2-362a-4cd9-972d-c0472a0fbdf0",
   "metadata": {},
   "outputs": [],
   "source": [
    "X_test[numeric_features] = imputer_numeric.transform(X_test[numeric_features])\n",
    "X_test[categorical_features] = imputer_categorical.transform(X_test[categorical_features])\n",
    "\n",
    "X_test[numeric_features] = scaler_numeric.transform(X_test[numeric_features])\n",
    "\n",
    "X_test_encoded_array = encoder_categorical.transform(X_test[categorical_features]).toarray()\n",
    "X_test_encoded_df = pd.DataFrame(X_test_encoded_array, columns=encoder_categorical.get_feature_names_out(categorical_features))\n",
    "\n",
    "X_test.reset_index(drop=True, inplace=True)\n",
    "X_test = pd.concat([X_test, X_test_encoded_df], axis=1)\n",
    "X_test.drop(['Pclass', 'Sex', 'Embarked'], axis=1, inplace=True)\n",
    "\n",
    "predictions = logreg_model.predict(X_test)"
   ]
  },
  {
   "cell_type": "code",
   "execution_count": 41,
   "id": "c4ae6e8c-d154-45d8-b1fb-14a9a73cfda2",
   "metadata": {},
   "outputs": [],
   "source": [
    "# predictions"
   ]
  },
  {
   "cell_type": "code",
   "execution_count": 42,
   "id": "ded66e23-fe4d-49fa-8d3f-afff4b759893",
   "metadata": {},
   "outputs": [],
   "source": [
    "# y_test"
   ]
  },
  {
   "cell_type": "code",
   "execution_count": 43,
   "id": "5e7fc2b5-f2ab-49b9-827a-a77c71298f7c",
   "metadata": {},
   "outputs": [],
   "source": [
    "result_df = pd.concat([X_test.reset_index(drop=True), y_test.reset_index(drop=True), pd.Series(predictions, name='Predictions')], axis=1)\n",
    "# result_df.head()"
   ]
  },
  {
   "cell_type": "code",
   "execution_count": 44,
   "id": "706e0d87-12e1-4784-b5e5-18b0043a4b6c",
   "metadata": {},
   "outputs": [
    {
     "name": "stdout",
     "output_type": "stream",
     "text": [
      "Accuracy: 0.80\n"
     ]
    }
   ],
   "source": [
    "from sklearn.metrics import accuracy_score\n",
    "\n",
    "# https://scikit-learn.org/stable/modules/generated/sklearn.metrics.accuracy_score.html\n",
    "\n",
    "accuracy = accuracy_score(y_test, predictions)\n",
    "\n",
    "print(f\"Accuracy: {accuracy:.2f}\")\n"
   ]
  },
  {
   "cell_type": "code",
   "execution_count": 45,
   "id": "6740890c-47eb-4726-99d3-ee8ef4ffd2f4",
   "metadata": {},
   "outputs": [
    {
     "name": "stdout",
     "output_type": "stream",
     "text": [
      "Recall: 0.70\n"
     ]
    }
   ],
   "source": [
    "from sklearn.metrics import recall_score\n",
    "\n",
    "# https://scikit-learn.org/stable/modules/generated/sklearn.metrics.recall_score.html\n",
    "\n",
    "recall = recall_score(y_test, predictions)\n",
    "\n",
    "print(f\"Recall: {recall:.2f}\")\n"
   ]
  },
  {
   "cell_type": "code",
   "execution_count": 46,
   "id": "a14a306c-1a0d-47de-8298-9a4f03a57472",
   "metadata": {},
   "outputs": [
    {
     "name": "stdout",
     "output_type": "stream",
     "text": [
      "Precision: 0.79\n"
     ]
    }
   ],
   "source": [
    "from sklearn.metrics import precision_score\n",
    "\n",
    "# https://scikit-learn.org/stable/modules/generated/sklearn.metrics.precision_score.html\n",
    "\n",
    "precision = precision_score(y_test, predictions)\n",
    "\n",
    "print(f\"Precision: {precision:.2f}\")\n"
   ]
  },
  {
   "cell_type": "code",
   "execution_count": 47,
   "id": "fb6645c6-e3ea-452d-9385-d978a0d2edce",
   "metadata": {},
   "outputs": [
    {
     "name": "stdout",
     "output_type": "stream",
     "text": [
      "F1 Score: 0.74\n"
     ]
    }
   ],
   "source": [
    "from sklearn.metrics import f1_score\n",
    "\n",
    "# https://scikit-learn.org/stable/modules/generated/sklearn.metrics.f1_score.html\n",
    "\n",
    "f1 = f1_score(y_test, predictions)\n",
    "\n",
    "print(f\"F1 Score: {f1:.2f}\")\n"
   ]
  },
  {
   "cell_type": "code",
   "execution_count": 48,
   "id": "e7fb0851-00e5-477b-9e6c-79d20d3233b1",
   "metadata": {},
   "outputs": [
    {
     "name": "stdout",
     "output_type": "stream",
     "text": [
      "              precision    recall  f1-score   support\n",
      "\n",
      "           0       0.81      0.87      0.83       105\n",
      "           1       0.79      0.70      0.74        74\n",
      "\n",
      "    accuracy                           0.80       179\n",
      "   macro avg       0.80      0.78      0.79       179\n",
      "weighted avg       0.80      0.80      0.80       179\n",
      "\n"
     ]
    }
   ],
   "source": [
    "from sklearn.metrics import classification_report\n",
    "\n",
    "# https://scikit-learn.org/stable/modules/generated/sklearn.metrics.classification_report.html\n",
    "\n",
    "report = classification_report(y_test, predictions)\n",
    "\n",
    "print(report)"
   ]
  },
  {
   "cell_type": "markdown",
   "id": "8da4c177-649a-4df9-b504-641b7bfde4f0",
   "metadata": {
    "jp-MarkdownHeadingCollapsed": true
   },
   "source": [
    "# Submissions"
   ]
  },
  {
   "cell_type": "code",
   "execution_count": 49,
   "id": "ae03787b-fea9-4396-aef9-0e274ac58907",
   "metadata": {},
   "outputs": [],
   "source": [
    "df_sub = pd.read_csv('data_test.csv')\n",
    "df_sub_asli = df_sub.copy()"
   ]
  },
  {
   "cell_type": "code",
   "execution_count": 50,
   "id": "7617169a-271c-4c79-a556-f24eb89c613d",
   "metadata": {},
   "outputs": [],
   "source": [
    "# df_sub.head()"
   ]
  },
  {
   "cell_type": "code",
   "execution_count": 51,
   "id": "1a23406e-d452-4d8d-8307-55d9582ef140",
   "metadata": {},
   "outputs": [],
   "source": [
    "df_sub.drop(['Name','Cabin','Ticket','PassengerId'], axis=1, inplace=True)"
   ]
  },
  {
   "cell_type": "code",
   "execution_count": 52,
   "id": "ce6502db-27e7-4db2-9332-41389444cdd5",
   "metadata": {},
   "outputs": [],
   "source": [
    "df_sub[numeric_features] = imputer_numeric.transform(df_sub[numeric_features])\n",
    "df_sub[categorical_features] = imputer_categorical.transform(df_sub[categorical_features])\n",
    "\n",
    "df_sub[numeric_features] = scaler_numeric.transform(df_sub[numeric_features])\n",
    "\n",
    "df_sub_encoded_array = encoder_categorical.transform(df_sub[categorical_features]).toarray()\n",
    "df_sub_encoded_df = pd.DataFrame(df_sub_encoded_array, columns=encoder_categorical.get_feature_names_out(categorical_features))\n",
    "\n",
    "df_sub.reset_index(drop=True, inplace=True)\n",
    "df_sub = pd.concat([df_sub, df_sub_encoded_df], axis=1)\n",
    "df_sub.drop(['Pclass', 'Sex', 'Embarked'], axis=1, inplace=True)\n",
    "\n",
    "predictions_sub = logreg_model.predict(df_sub)"
   ]
  },
  {
   "cell_type": "code",
   "execution_count": 53,
   "id": "e341c5e9-ab63-482d-8586-83a89e446446",
   "metadata": {},
   "outputs": [],
   "source": [
    "# predictions_sub"
   ]
  },
  {
   "cell_type": "code",
   "execution_count": 54,
   "id": "0712a11e-f463-47b1-8659-61e7eec8e9d4",
   "metadata": {},
   "outputs": [],
   "source": [
    "df_sub_asli.reset_index(drop=True, inplace=True)\n",
    "df_sub_asli = pd.concat([df_sub_asli, pd.Series(predictions_sub, name='Survived')], axis=1)\n",
    "# df_sub_asli.head()"
   ]
  },
  {
   "cell_type": "code",
   "execution_count": 55,
   "id": "793f4a5b-44c9-4ec2-951f-c937f4b90547",
   "metadata": {},
   "outputs": [],
   "source": [
    "df_sub_asli = df_sub_asli[['PassengerId','Survived']]\n",
    "# df_sub_asli.head()"
   ]
  },
  {
   "cell_type": "code",
   "execution_count": 56,
   "id": "d1b4b703-53cd-477b-af79-1d309c145884",
   "metadata": {},
   "outputs": [],
   "source": [
    "df_sub_asli.to_csv('hasil_prediksi.csv', index=False)"
   ]
  },
  {
   "cell_type": "code",
   "execution_count": null,
   "id": "8fc4ac26-5021-469b-9e7f-d783bbb1b04c",
   "metadata": {},
   "outputs": [],
   "source": []
  }
 ],
 "metadata": {
  "kernelspec": {
   "display_name": "UMRI02",
   "language": "python",
   "name": "umri02"
  },
  "language_info": {
   "codemirror_mode": {
    "name": "ipython",
    "version": 3
   },
   "file_extension": ".py",
   "mimetype": "text/x-python",
   "name": "python",
   "nbconvert_exporter": "python",
   "pygments_lexer": "ipython3",
   "version": "3.11.4"
  }
 },
 "nbformat": 4,
 "nbformat_minor": 5
}
